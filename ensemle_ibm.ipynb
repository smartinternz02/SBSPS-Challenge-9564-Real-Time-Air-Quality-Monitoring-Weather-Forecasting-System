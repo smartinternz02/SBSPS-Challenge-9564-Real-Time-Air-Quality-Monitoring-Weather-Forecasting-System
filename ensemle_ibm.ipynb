{
  "nbformat": 4,
  "nbformat_minor": 0,
  "metadata": {
    "colab": {
      "provenance": []
    },
    "kernelspec": {
      "name": "python3",
      "display_name": "Python 3"
    },
    "language_info": {
      "name": "python"
    }
  },
  "cells": [
    {
      "cell_type": "code",
      "execution_count": null,
      "metadata": {
        "id": "CKt5SBcptkzP"
      },
      "outputs": [],
      "source": []
    },
    {
      "cell_type": "code",
      "execution_count": null,
      "metadata": {
        "id": "gI71miRY08Tn"
      },
      "outputs": [],
      "source": [
        "from math import sqrt\n",
        "from numpy import concatenate\n",
        "import tensorflow as tf\n",
        "from matplotlib import pyplot\n",
        "from pandas import read_csv\n",
        "from tensorflow import keras \n",
        "from pandas import DataFrame\n",
        "from pandas import concat\n",
        "from tensorflow.keras.optimizers import *\n",
        "from sklearn.preprocessing import MinMaxScaler\n",
        "from sklearn.preprocessing import LabelEncoder\n",
        "from sklearn.metrics import mean_squared_error\n",
        "from keras.models import Sequential\n",
        "from keras.layers import Dense,Dropout\n",
        "\n",
        "from keras.layers import LSTM\n",
        "import numpy as np \n",
        "import pickle \n",
        "import pandas as pd \n",
        "from sklearn.linear_model import LinearRegression\n"
      ]
    },
    {
      "cell_type": "code",
      "source": [
        "dataset = read_csv('/content/station.csv')\n",
        "#dataset=dataset.drop(['day','month','mintemp','Bias'],axis=1)\n",
        "values = dataset.values\n",
        "values.shape\n",
        "\n",
        "# dataset.head(30)"
      ],
      "metadata": {
        "colab": {
          "base_uri": "https://localhost:8080/"
        },
        "id": "LpIIISUKWXnn",
        "outputId": "8ce52cf6-6d03-434c-cba0-b75aa49209f6"
      },
      "execution_count": null,
      "outputs": [
        {
          "output_type": "execute_result",
          "data": {
            "text/plain": [
              "(882, 3)"
            ]
          },
          "metadata": {},
          "execution_count": 8
        }
      ]
    },
    {
      "cell_type": "code",
      "source": [
        "scaler = pickle.load(open('/content/scaler_model', 'rb'))\n"
      ],
      "metadata": {
        "id": "qY5pzX9DW3kB"
      },
      "execution_count": null,
      "outputs": []
    },
    {
      "cell_type": "code",
      "source": [
        "scaled = scaler.transform(values)"
      ],
      "metadata": {
        "id": "0atrn8DmXR7g"
      },
      "execution_count": null,
      "outputs": []
    },
    {
      "cell_type": "code",
      "source": [
        "scaled"
      ],
      "metadata": {
        "id": "KvEvB50pXqCc"
      },
      "execution_count": null,
      "outputs": []
    },
    {
      "cell_type": "code",
      "source": [
        "def series_to_supervised(data, n_in=1, n_out=1, dropnan=True):\n",
        "\tn_vars = 1 if type(data) is list else data.shape[1]\n",
        "\tdf = DataFrame(data)\n",
        "\tcols, names = list(), list()\n",
        "\t# input sequence (t-n, ... t-1)\n",
        "\tfor i in range(n_in, 0, -1):\n",
        "\t\tcols.append(df.shift(i))\n",
        "\t\tnames += [('var%d(t-%d)' % (j+1, i)) for j in range(n_vars)]\n",
        "\t# forecast sequence (t, t+1, ... t+n)\n",
        "\tfor i in range(0, n_out):\n",
        "\t\tcols.append(df.shift(-i))\n",
        "\t\tif i == 0:\n",
        "\t\t\tnames += [('var%d(t)' % (j+1)) for j in range(n_vars)]\n",
        "\t\telse:\n",
        "\t\t\tnames += [('var%d(t+%d)' % (j+1, i)) for j in range(n_vars)]\n",
        "\t# put it all together\n",
        "\tagg = concat(cols, axis=1)\n",
        "\tagg.columns = names\n",
        "\t# drop rows with NaN values\n",
        "\tif dropnan:\n",
        "\t\tagg.dropna(inplace=True)\n",
        "\treturn agg"
      ],
      "metadata": {
        "id": "SV4U5EQDYeOw"
      },
      "execution_count": null,
      "outputs": []
    },
    {
      "cell_type": "code",
      "source": [
        "# specify the number of lag hours\n",
        "n_days = 7 \n",
        "n_features =3\n",
        "# frame as supervised learning\n",
        "reframed = series_to_supervised(scaled, n_days, 1) \n",
        "# reframed\n",
        "print(reframed.head())"
      ],
      "metadata": {
        "id": "sxC2A0wqXrBI"
      },
      "execution_count": null,
      "outputs": []
    },
    {
      "cell_type": "code",
      "source": [
        "values = reframed.values \n",
        "values\n",
        "n_train_days = 8251\n",
        "train = values[:n_train_days, :] \n",
        "\n",
        "val = values[n_train_days:1028+n_train_days, :]  \n",
        "\n",
        "test=values[1028+n_train_days:,:]\n",
        "# test"
      ],
      "metadata": {
        "id": "U7zvfMRZYTyd"
      },
      "execution_count": null,
      "outputs": []
    },
    {
      "cell_type": "code",
      "source": [
        "n_obs = n_days* n_features\n",
        "print(n_obs)"
      ],
      "metadata": {
        "colab": {
          "base_uri": "https://localhost:8080/"
        },
        "id": "_dwK5E_bYfxD",
        "outputId": "6ffe7a34-dd47-4eb4-85a5-3a23144a27ce"
      },
      "execution_count": null,
      "outputs": [
        {
          "output_type": "stream",
          "name": "stdout",
          "text": [
            "21\n"
          ]
        }
      ]
    },
    {
      "cell_type": "code",
      "source": [
        "_,month= test[:, :n_obs], test[:, -n_features+2]   "
      ],
      "metadata": {
        "id": "IjOdibrUzR1j"
      },
      "execution_count": null,
      "outputs": []
    },
    {
      "cell_type": "code",
      "source": [
        "train_X_mlp, train_y = train[:, :n_obs], train[:, -n_features]\n",
        "# # print(train_X[-1,:])\n",
        "# # print(train_y[-1])\n",
        "# val_X, val_y = val[:, :n_obs], val[:, -n_features]\n",
        "test_X_mlp, test_y = test[:, :n_obs], test[:, -n_features]  \n",
        "# print(test_X[0,:])\n",
        "# print(test_y[0])\n",
        "# print(val_X)"
      ],
      "metadata": {
        "id": "GhSpZBvzcZkB"
      },
      "execution_count": null,
      "outputs": []
    },
    {
      "cell_type": "markdown",
      "source": [],
      "metadata": {
        "id": "IDLzIroocZOf"
      }
    },
    {
      "cell_type": "code",
      "source": [
        "\n",
        "loaded_model = pickle.load(open(\"/content/mlp_u90_adam_612\", 'rb'))"
      ],
      "metadata": {
        "id": "OEmjN8McYl5C"
      },
      "execution_count": null,
      "outputs": []
    },
    {
      "cell_type": "code",
      "source": [
        "ypred_mlp = loaded_model.predict(test_X_mlp) \n"
      ],
      "metadata": {
        "id": "q0troMY3bh9L"
      },
      "execution_count": null,
      "outputs": []
    },
    {
      "cell_type": "code",
      "source": [
        "\n",
        "fcp1=np.repeat(ypred_mlp,13,axis=1)\n",
        "inv_yhat=scaler.inverse_transform(fcp1)\n",
        "inv_yhat = inv_yhat[:,0]\n",
        "\n",
        "# print(inv_yhat)\n",
        "test_y =test_y.reshape((len(test_y), 1))\n",
        "fcp2=np.repeat(test_y,13,axis=1)\n",
        "inv_y = scaler.inverse_transform(fcp2) \n",
        "inv_y = inv_y[:,0]  \n",
        "\n",
        "test_rmse = sqrt(mean_squared_error(inv_y, inv_yhat))  \n",
        "print(test_rmse)"
      ],
      "metadata": {
        "id": "jtBPE3Y8qgvx",
        "colab": {
          "base_uri": "https://localhost:8080/"
        },
        "outputId": "ba6bac21-2fb4-49da-d50f-1d3c2b7a72ee"
      },
      "execution_count": null,
      "outputs": [
        {
          "output_type": "stream",
          "name": "stdout",
          "text": [
            "0.981775566905665\n"
          ]
        }
      ]
    },
    {
      "cell_type": "code",
      "source": [
        "\n",
        "train_X_GRU= train_X_mlp.reshape((train_X_mlp.shape[0], n_days, n_features))\n",
        "# val_X = val_X.reshape((val_X.shape[0],n_days,n_features))\n",
        "test_X_GRU = test_X_mlp.reshape((test_X_mlp.shape[0], n_days, n_features))\n",
        "\n",
        "\n",
        "\n",
        "# print(val_X.shape,train_X.shape,test_X.shape)\n"
      ],
      "metadata": {
        "id": "2fyzmg1Gbm9I"
      },
      "execution_count": null,
      "outputs": []
    },
    {
      "cell_type": "code",
      "source": [
        "loaded_model = pickle.load(open(\"/content/GRU_30_adam_mae_max\", 'rb'))"
      ],
      "metadata": {
        "id": "B7zGXU8wb8YP"
      },
      "execution_count": null,
      "outputs": []
    },
    {
      "cell_type": "code",
      "source": [
        "ypred_gru= loaded_model.predict(test_X_GRU) \n",
        "# print(ypred_gru.shape) \n",
        "fcp1=np.repeat(ypred_gru,13,axis=1)\n",
        "inv_yhat=scaler.inverse_transform(fcp1)\n",
        "inv_yhat = inv_yhat[:,0]\n",
        "\n",
        "# print(inv_yhat)\n",
        "test_y =test_y.reshape((len(test_y), 1))\n",
        "fcp2=np.repeat(test_y,13,axis=1)\n",
        "inv_y = scaler.inverse_transform(fcp2) \n",
        "inv_y = inv_y[:,0]  \n",
        "\n",
        "test_rmse = sqrt(mean_squared_error(inv_y, inv_yhat))  \n",
        "print(test_rmse)"
      ],
      "metadata": {
        "id": "lrBTL5ArcCHE",
        "colab": {
          "base_uri": "https://localhost:8080/"
        },
        "outputId": "a7224f02-f752-4c47-9a30-414e50988244"
      },
      "execution_count": null,
      "outputs": [
        {
          "output_type": "stream",
          "name": "stdout",
          "text": [
            "0.9795522002064\n"
          ]
        }
      ]
    },
    {
      "cell_type": "code",
      "source": [
        "loaded_model = pickle.load(open(\"/content/lstm_7_adam_msl_with_month\", 'rb'))"
      ],
      "metadata": {
        "id": "vDZkG2alNzXz"
      },
      "execution_count": null,
      "outputs": []
    },
    {
      "cell_type": "code",
      "source": [
        "ypred_lstm= loaded_model.predict(test_X_GRU)"
      ],
      "metadata": {
        "id": "ybTbk_m9Qx4k"
      },
      "execution_count": null,
      "outputs": []
    },
    {
      "cell_type": "code",
      "source": [
        "\n",
        "fcp1=np.repeat(ypred_lstm,13,axis=1)\n",
        "inv_yhat=scaler.inverse_transform(fcp1)\n",
        "inv_yhat = inv_yhat[:,0]\n",
        "\n",
        "# print(inv_yhat)\n",
        "test_y =test_y.reshape((len(test_y), 1))\n",
        "fcp2=np.repeat(test_y,13,axis=1)\n",
        "inv_y = scaler.inverse_transform(fcp2) \n",
        "inv_y = inv_y[:,0]  \n",
        "\n",
        "test_rmse = sqrt(mean_squared_error(inv_y, inv_yhat)) \n",
        "print(test_rmse)\n"
      ],
      "metadata": {
        "colab": {
          "base_uri": "https://localhost:8080/"
        },
        "id": "LozLzzzuMqVJ",
        "outputId": "4bb08ce2-0835-4bb1-d602-3e018bf4f3f8"
      },
      "execution_count": null,
      "outputs": [
        {
          "output_type": "stream",
          "name": "stdout",
          "text": [
            "0.94740845900911\n"
          ]
        }
      ]
    },
    {
      "cell_type": "code",
      "source": [
        "preds = np.stack([ypred_mlp.reshape(1,-1)[0], ypred_gru.reshape(1,-1)[0],ypred_lstm.reshape(1,-1)[0]], axis=1)\n",
        "preds \n"
      ],
      "metadata": {
        "id": "8ia2FfDkcE2w"
      },
      "execution_count": null,
      "outputs": []
    },
    {
      "cell_type": "code",
      "source": [
        "# stacker = LinearRegression()\n",
        "# stacker.fit(X=preds, y=train_y) \n",
        "# # with open('Ensembled_model_for_max','wb') as f: \n",
        "# #   pickle.dump(stacker,f) \n"
      ],
      "metadata": {
        "id": "zprQ1id7mAMT"
      },
      "execution_count": null,
      "outputs": []
    },
    {
      "cell_type": "code",
      "source": [
        "# stack_pred = stacker.predict(preds) \n",
        "ensembled_model = pickle.load(open(\"/content/Ensembled_model_for_max\", 'rb'))"
      ],
      "metadata": {
        "id": "rVYaI_Sj0Twn"
      },
      "execution_count": null,
      "outputs": []
    },
    {
      "cell_type": "code",
      "source": [
        "ensembled_pred =  ensembled_model.predict(preds) "
      ],
      "metadata": {
        "id": "Z1I2B4TBmlxY"
      },
      "execution_count": null,
      "outputs": []
    },
    {
      "cell_type": "code",
      "source": [
        "# stacker.score(preds,train_y) "
      ],
      "metadata": {
        "id": "Ai0Kgiiuz8Fh"
      },
      "execution_count": null,
      "outputs": []
    },
    {
      "cell_type": "code",
      "source": [
        "stack_pred = ensembled_pred.reshape(132,1)"
      ],
      "metadata": {
        "id": "lCpAnkPp0Igd"
      },
      "execution_count": null,
      "outputs": []
    },
    {
      "cell_type": "code",
      "source": [
        "\n",
        "fcp1=np.repeat(stack_pred,3,axis=1)\n",
        "inv_yhat=scaler.inverse_transform(fcp1)\n",
        "inv_yhat = inv_yhat[:,0]\n",
        "\n",
        "# print(inv_yhat)\n",
        "test_y =test_y.reshape((len(test_y), 1))\n",
        "fcp2=np.repeat(test_y,3,axis=1)\n",
        "inv_y = scaler.inverse_transform(fcp2) \n",
        "inv_y = inv_y[:,0]  \n",
        "\n",
        "test_rmse = sqrt(mean_squared_error(inv_y, inv_yhat))"
      ],
      "metadata": {
        "id": "_p7JR_x9A3fN"
      },
      "execution_count": null,
      "outputs": []
    },
    {
      "cell_type": "code",
      "source": [
        "test_rmse"
      ],
      "metadata": {
        "colab": {
          "base_uri": "https://localhost:8080/"
        },
        "id": "fpdrDG14TURb",
        "outputId": "dbcb85f9-9d04-4531-e7ac-c608ada5cb72"
      },
      "execution_count": null,
      "outputs": [
        {
          "output_type": "execute_result",
          "data": {
            "text/plain": [
              "0.9960899196980016"
            ]
          },
          "metadata": {},
          "execution_count": 35
        }
      ]
    },
    {
      "cell_type": "code",
      "source": [],
      "metadata": {
        "id": "uNDRa8ohQ9b9"
      },
      "execution_count": null,
      "outputs": []
    }
  ]
}